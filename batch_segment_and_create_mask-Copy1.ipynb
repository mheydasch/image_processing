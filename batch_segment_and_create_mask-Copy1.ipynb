{
 "cells": [
  {
   "cell_type": "markdown",
   "metadata": {},
   "source": [
    "# Apply pixel classifier on all images in a folder,  create corresponding mask"
   ]
  },
  {
   "cell_type": "code",
   "execution_count": 2,
   "metadata": {},
   "outputs": [
    {
     "ename": "ImportError",
     "evalue": "dlopen(/Users/max/opt/anaconda3/envs/tf/lib/python3.9/site-packages/cv2/cv2.cpython-39-darwin.so, 2): Library not loaded: /usr/local/opt/openssl/lib/libssl.1.0.0.dylib\n  Referenced from: /usr/local/opt/ffmpeg/lib/libavformat.58.dylib\n  Reason: image not found",
     "output_type": "error",
     "traceback": [
      "\u001b[0;31m---------------------------------------------------------------------------\u001b[0m",
      "\u001b[0;31mImportError\u001b[0m                               Traceback (most recent call last)",
      "\u001b[0;32m/var/folders/60/tv75tltj33l3gnp981djymlw0000gn/T/ipykernel_9037/324940071.py\u001b[0m in \u001b[0;36m<module>\u001b[0;34m\u001b[0m\n\u001b[1;32m      6\u001b[0m \u001b[0;32mimport\u001b[0m \u001b[0mglob\u001b[0m\u001b[0;34m\u001b[0m\u001b[0;34m\u001b[0m\u001b[0m\n\u001b[1;32m      7\u001b[0m \u001b[0;32mimport\u001b[0m \u001b[0mos\u001b[0m\u001b[0;34m\u001b[0m\u001b[0;34m\u001b[0m\u001b[0m\n\u001b[0;32m----> 8\u001b[0;31m \u001b[0;32mimport\u001b[0m \u001b[0mcv2\u001b[0m\u001b[0;34m\u001b[0m\u001b[0;34m\u001b[0m\u001b[0m\n\u001b[0m\u001b[1;32m      9\u001b[0m \u001b[0;32mimport\u001b[0m \u001b[0mpickle\u001b[0m \u001b[0;32mas\u001b[0m \u001b[0mpkl\u001b[0m\u001b[0;34m\u001b[0m\u001b[0;34m\u001b[0m\u001b[0m\n\u001b[1;32m     10\u001b[0m \u001b[0;34m\u001b[0m\u001b[0m\n",
      "\u001b[0;32m~/opt/anaconda3/envs/tf/lib/python3.9/site-packages/cv2/__init__.py\u001b[0m in \u001b[0;36m<module>\u001b[0;34m\u001b[0m\n\u001b[1;32m      6\u001b[0m \u001b[0;32mimport\u001b[0m \u001b[0msys\u001b[0m\u001b[0;34m\u001b[0m\u001b[0;34m\u001b[0m\u001b[0m\n\u001b[1;32m      7\u001b[0m \u001b[0;34m\u001b[0m\u001b[0m\n\u001b[0;32m----> 8\u001b[0;31m \u001b[0;32mfrom\u001b[0m \u001b[0;34m.\u001b[0m\u001b[0mcv2\u001b[0m \u001b[0;32mimport\u001b[0m \u001b[0;34m*\u001b[0m\u001b[0;34m\u001b[0m\u001b[0;34m\u001b[0m\u001b[0m\n\u001b[0m\u001b[1;32m      9\u001b[0m \u001b[0;32mfrom\u001b[0m \u001b[0;34m.\u001b[0m\u001b[0mcv2\u001b[0m \u001b[0;32mimport\u001b[0m \u001b[0m_registerMatType\u001b[0m\u001b[0;34m\u001b[0m\u001b[0;34m\u001b[0m\u001b[0m\n\u001b[1;32m     10\u001b[0m \u001b[0;32mfrom\u001b[0m \u001b[0;34m.\u001b[0m \u001b[0;32mimport\u001b[0m \u001b[0mmat_wrapper\u001b[0m\u001b[0;34m\u001b[0m\u001b[0;34m\u001b[0m\u001b[0m\n",
      "\u001b[0;31mImportError\u001b[0m: dlopen(/Users/max/opt/anaconda3/envs/tf/lib/python3.9/site-packages/cv2/cv2.cpython-39-darwin.so, 2): Library not loaded: /usr/local/opt/openssl/lib/libssl.1.0.0.dylib\n  Referenced from: /usr/local/opt/ffmpeg/lib/libavformat.58.dylib\n  Reason: image not found"
     ]
    }
   ],
   "source": [
    "from scipy import ndimage\n",
    "from skimage.morphology import binary_erosion\n",
    "import sys\n",
    "\n",
    "from sklearn.ensemble import RandomForestClassifier\n",
    "import glob\n",
    "import os\n",
    "import cv2\n",
    "import pickle as pkl\n",
    "\n",
    "from csbdeep.utils import normalize\n",
    "import numpy as np\n",
    "import skimage\n",
    "from skimage.morphology import square\n",
    "import scipy\n",
    "from skimage.segmentation import expand_labels\n",
    "import matplotlib.pyplot as plt\n",
    "import pandas as pd\n",
    "sys.path.append(os.path.realpath('/Users/max/Desktop/Scripts_for_max/'))\n",
    "from semantic_segmentation import init_VGG16_pyramid, fd_VGG16_pyramid"
   ]
  },
  {
   "cell_type": "code",
   "execution_count": 12,
   "metadata": {},
   "outputs": [
    {
     "ename": "NameError",
     "evalue": "name 'file' is not defined",
     "output_type": "error",
     "traceback": [
      "\u001b[0;31m---------------------------------------------------------------------------\u001b[0m",
      "\u001b[0;31mNameError\u001b[0m                                 Traceback (most recent call last)",
      "\u001b[0;32m/var/folders/60/tv75tltj33l3gnp981djymlw0000gn/T/ipykernel_87315/3692033204.py\u001b[0m in \u001b[0;36m<module>\u001b[0;34m\u001b[0m\n\u001b[0;32m----> 1\u001b[0;31m \u001b[0mfile\u001b[0m\u001b[0;34m\u001b[0m\u001b[0;34m\u001b[0m\u001b[0m\n\u001b[0m",
      "\u001b[0;31mNameError\u001b[0m: name 'file' is not defined"
     ]
    }
   ],
   "source": [
    "file"
   ]
  },
  {
   "cell_type": "code",
   "execution_count": 6,
   "metadata": {},
   "outputs": [],
   "source": [
    "def spot_mask_from_labels(labels):\n",
    "    '''takes label mask, shrinks objects and subtracts from original image.'''\n",
    "    stim_width = 10\n",
    "    footprint = np.ones((stim_width,stim_width))\n",
    "    labels_b = labels>0\n",
    "    labels_b_ero = binary_erosion(labels_b,footprint)\n",
    "    labels_b_sub = np.logical_xor(labels_b,labels_b_ero)\n",
    "    labels_b_sub = labels_b_sub.astype('uint8')\n",
    "    labels_sub = np.multiply(labels_b_sub,labels)\n",
    "    \n",
    "    df = pd.DataFrame()\n",
    "    props = skimage.measure.regionprops(labels)\n",
    "    for prop in props[:]:\n",
    "        df_spot = pd.DataFrame({'cell_label': [prop.label],'cell_x': [prop.centroid[0]], 'cell_y':[prop.centroid[1]], 'cell_area': [prop.area],'stim_width':[stim_width]})\n",
    "        df = df.append(df_spot)\n",
    "\n",
    "    return labels_b_sub,df\n",
    "\n",
    "def frame_to_labels(frame):\n",
    "    f_h2b = frame[1,:,:].copy()\n",
    "    f_h2b_scaled = normalize(f_h2b, 5,95)\n",
    "    features = fd_VGG16_pyramid(f_h2b_scaled,models,shapes)\n",
    "    to_predict = features.reshape(np.shape(features)[0]*np.shape(features)[1],np.shape(features)[2])\n",
    "    prediction_list = clf.predict_proba(to_predict)[:,0]\n",
    "    prediction_img = np.reshape(prediction_list, f_h2b_scaled.shape)\n",
    "    #now run watershed on segmentaion, using no seed\n",
    "    prediction_img = prediction_img>0.5\n",
    "    prediction_img = skimage.morphology.erosion(prediction_img, square(5))\n",
    "    prediction_img = skimage.morphology.remove_small_objects(prediction_img, min_size = 100**2)\n",
    "    prediction_img = scipy.ndimage.morphology.binary_fill_holes(prediction_img)\n",
    "        \n",
    "    #labels = skimage.segmentation.watershed(-distance_img, mask = prediction_img)#, mask=prediction_img>0.5)\n",
    "    labels = skimage.segmentation.watershed(~prediction_img, mask = prediction_img)\n",
    "\n",
    "    return labels"
   ]
  },
  {
   "cell_type": "markdown",
   "metadata": {},
   "source": [
    "### Import the classifier you want to use"
   ]
  },
  {
   "cell_type": "code",
   "execution_count": null,
   "metadata": {},
   "outputs": [],
   "source": [
    "file = open(\"F:\\\\Max\\\\micromanager\\\\calibration\\\\classifier_max_2021-10-15_DLC1.pkl\", \"rb\")\n",
    "clf = pkl.load(file)\n",
    "file.close()"
   ]
  },
  {
   "cell_type": "code",
   "execution_count": 2,
   "metadata": {},
   "outputs": [
    {
     "ename": "NameError",
     "evalue": "name 'pkl' is not defined",
     "output_type": "error",
     "traceback": [
      "\u001b[0;31m---------------------------------------------------------------------------\u001b[0m",
      "\u001b[0;31mNameError\u001b[0m                                 Traceback (most recent call last)",
      "\u001b[0;32m<ipython-input-2-2f1ca209c1df>\u001b[0m in \u001b[0;36m<module>\u001b[0;34m\u001b[0m\n\u001b[1;32m      1\u001b[0m \u001b[0mfile\u001b[0m \u001b[0;34m=\u001b[0m \u001b[0mopen\u001b[0m\u001b[0;34m(\u001b[0m\u001b[0;34m\"F:\\\\Max\\\\micromanager\\\\calibration\\\\classifier_max_2021-10-15_DLC1.pkl\"\u001b[0m\u001b[0;34m,\u001b[0m \u001b[0;34m\"wb\"\u001b[0m\u001b[0;34m)\u001b[0m\u001b[0;34m\u001b[0m\u001b[0;34m\u001b[0m\u001b[0m\n\u001b[0;32m----> 2\u001b[0;31m \u001b[0mpkl\u001b[0m\u001b[0;34m.\u001b[0m\u001b[0mdump\u001b[0m\u001b[0;34m(\u001b[0m\u001b[0mclf\u001b[0m\u001b[0;34m,\u001b[0m \u001b[0mfile\u001b[0m\u001b[0;34m)\u001b[0m\u001b[0;34m\u001b[0m\u001b[0;34m\u001b[0m\u001b[0m\n\u001b[0m\u001b[1;32m      3\u001b[0m \u001b[0;34m\u001b[0m\u001b[0m\n\u001b[1;32m      4\u001b[0m \u001b[0mfile\u001b[0m\u001b[0;34m.\u001b[0m\u001b[0mclose\u001b[0m\u001b[0;34m(\u001b[0m\u001b[0;34m)\u001b[0m\u001b[0;34m\u001b[0m\u001b[0;34m\u001b[0m\u001b[0m\n",
      "\u001b[0;31mNameError\u001b[0m: name 'pkl' is not defined"
     ]
    }
   ],
   "source": [
    "file = open(\"F:\\\\Max\\\\micromanager\\\\calibration\\\\classifier_max_2021-10-15_DLC1.pkl\", \"wb\")\n",
    "pkl.dump(clf, file)\n",
    "\n",
    "file.close()"
   ]
  },
  {
   "cell_type": "code",
   "execution_count": null,
   "metadata": {},
   "outputs": [],
   "source": []
  },
  {
   "cell_type": "markdown",
   "metadata": {},
   "source": [
    "### Set input and output folders"
   ]
  },
  {
   "cell_type": "code",
   "execution_count": 3,
   "metadata": {},
   "outputs": [],
   "source": [
    "input_folder = '/Volumes/imaging.data/Max/REF52/DLC_1/FRET/FRET_11_late/cp.out1/output/'\n",
    "output_folder_segmentation = '/Volumes/imaging.data/Max/REF52/DLC_1/FRET/FRET_11_late/cp.out1/output/output_segmentation//'\n",
    "output_folder_mask = '/Volumes/imaging.data/Max/REF52/DLC_1/FRET/FRET_11_late/cp.out1/output/output_mask/'"
   ]
  },
  {
   "cell_type": "markdown",
   "metadata": {},
   "source": [
    "### Search images"
   ]
  },
  {
   "cell_type": "code",
   "execution_count": 4,
   "metadata": {},
   "outputs": [
    {
     "ename": "NameError",
     "evalue": "name 'glob' is not defined",
     "output_type": "error",
     "traceback": [
      "\u001b[0;31m---------------------------------------------------------------------------\u001b[0m",
      "\u001b[0;31mNameError\u001b[0m                                 Traceback (most recent call last)",
      "\u001b[0;32m<ipython-input-4-3675a72818bd>\u001b[0m in \u001b[0;36m<module>\u001b[0;34m\u001b[0m\n\u001b[0;32m----> 1\u001b[0;31m \u001b[0mfilenames\u001b[0m \u001b[0;34m=\u001b[0m \u001b[0msorted\u001b[0m\u001b[0;34m(\u001b[0m\u001b[0mglob\u001b[0m\u001b[0;34m.\u001b[0m\u001b[0mglob\u001b[0m\u001b[0;34m(\u001b[0m\u001b[0mos\u001b[0m\u001b[0;34m.\u001b[0m\u001b[0mpath\u001b[0m\u001b[0;34m.\u001b[0m\u001b[0mjoin\u001b[0m\u001b[0;34m(\u001b[0m\u001b[0minput_folder\u001b[0m\u001b[0;34m,\u001b[0m\u001b[0;34m'*.TIF'\u001b[0m\u001b[0;34m)\u001b[0m\u001b[0;34m)\u001b[0m\u001b[0;34m)\u001b[0m\u001b[0;34m\u001b[0m\u001b[0;34m\u001b[0m\u001b[0m\n\u001b[0m\u001b[1;32m      2\u001b[0m \u001b[0mprint\u001b[0m\u001b[0;34m(\u001b[0m\u001b[0;34mf'Found {len(filenames)} input files.'\u001b[0m\u001b[0;34m)\u001b[0m\u001b[0;34m\u001b[0m\u001b[0;34m\u001b[0m\u001b[0m\n\u001b[1;32m      3\u001b[0m \u001b[0mprint\u001b[0m\u001b[0;34m(\u001b[0m\u001b[0;34mf'Last file: {filenames[-2]}'\u001b[0m\u001b[0;34m)\u001b[0m\u001b[0;34m\u001b[0m\u001b[0;34m\u001b[0m\u001b[0m\n\u001b[1;32m      4\u001b[0m \u001b[0mraw\u001b[0m \u001b[0;34m=\u001b[0m \u001b[0mio\u001b[0m\u001b[0;34m.\u001b[0m\u001b[0mimread\u001b[0m\u001b[0;34m(\u001b[0m\u001b[0mfilenames\u001b[0m\u001b[0;34m[\u001b[0m\u001b[0;34m-\u001b[0m\u001b[0;36m1\u001b[0m\u001b[0;34m]\u001b[0m\u001b[0;34m)\u001b[0m\u001b[0;34m\u001b[0m\u001b[0;34m\u001b[0m\u001b[0m\n",
      "\u001b[0;31mNameError\u001b[0m: name 'glob' is not defined"
     ]
    }
   ],
   "source": [
    "filenames = sorted(glob.glob(os.path.join(input_folder,'*.TIF')))\n",
    "print(f'Found {len(filenames)} input files.')\n",
    "print(f'Last file: {filenames[-2]}')\n",
    "raw = io.imread(filenames[-1])"
   ]
  },
  {
   "cell_type": "code",
   "execution_count": null,
   "metadata": {},
   "outputs": [],
   "source": [
    "project_path = 'Z:\\\\lhinder\\\\data\\\\rtm_mm_data\\\\exp_63\\\\'\n",
    "fov = 0\n",
    "raw = io.imread(filenames[-1])\n",
    "frame = raw\n",
    "norm_min = 5\n",
    "norm_max = 95\n",
    "f_h2b = frame[1,:,:].copy()\n",
    "annotation_frame = normalize(f_h2b, norm_min,norm_max)"
   ]
  },
  {
   "cell_type": "code",
   "execution_count": null,
   "metadata": {},
   "outputs": [],
   "source": [
    "#create the classifier\n",
    "clf = RandomForestClassifier(random_state=0)\n",
    "\n",
    "# create feature extractor and apply \n",
    "#shapes = [(1024,1024),(512,512),(256,256),(128,128),(64,64)]\n",
    "shapes = [(512,512),(64,64),(32,32)]\n",
    "models = init_VGG16_pyramid(shapes)\n",
    "features = fd_VGG16_pyramid(annotation_frame,models,shapes)\n",
    "\n",
    "\n",
    "@magicgui(call_button='train classifier')\n",
    "def clf_widget():\n",
    "    #run everytime the train button is pressed\n",
    "    #extract the labels\n",
    "    annotations = np.array(labels_layer.data)\n",
    "    X,y = annotations_to_tensor(features,annotations)\n",
    "    clf.fit(X, y) #train the classifier on the new labels\n",
    "    #now predict the rest of the image with the new clf\n",
    "    to_predict = features.reshape(np.shape(features)[0]*np.shape(features)[1],np.shape(features)[2])\n",
    "    prediction_list = clf.predict_proba(to_predict)[:,0]\n",
    "    prediction_img = np.reshape(prediction_list, annotation_frame.shape)\n",
    "    \n",
    "    #display the new prediciton\n",
    "    prediction_layer.visible = True\n",
    "    prediction_layer.data = prediction_img\n",
    "    return clf\n",
    "\n",
    "def annotations_to_tensor(feature_matrix,mask):\n",
    "    #feature matrix dim: [x,y,nb_features]\n",
    "    #possible mask elements: 0: not annotated, int[1,2]: class annotation\n",
    "    y_labels=[] #where class labels are stored\n",
    "    X_features=[] #where feature vectors are stored\n",
    "    for x,y in np.argwhere(mask!=0):\n",
    "        y_labels.append(mask[x,y])\n",
    "        X_features.append(feature_matrix[x,y,:])\n",
    "    #turn list into np array\n",
    "    X_features = np.asarray(X_features)\n",
    "    return X_features,y_labels\n",
    "\n",
    "viewer = napari.view_image(annotation_frame, name=\"My Image\")\n",
    "\n",
    "\n",
    "labels_layer = viewer.add_labels(np.zeros_like(annotation_frame).astype(int), seed = 0)\n",
    "viewer.window.add_dock_widget(clf_widget)\n",
    "prediction_layer = viewer.add_image(np.zeros_like(annotation_frame),colormap='PiYG')\n",
    "prediction_layer.visible = False\n",
    "prediction_layer.name = \"Classifier prediction\"\n",
    "napari.run()"
   ]
  },
  {
   "cell_type": "markdown",
   "metadata": {},
   "source": [
    "### Run the segmentation on all images"
   ]
  },
  {
   "cell_type": "code",
   "execution_count": 133,
   "metadata": {},
   "outputs": [
    {
     "data": {
      "image/png": "[encoded data removed]",
      "text/plain": [
       "<Figure size 432x288 with 1 Axes>"
      ]
     },
     "metadata": {
      "needs_background": "light"
     },
     "output_type": "display_data"
    },
    {
     "data": {
      "image/png": "[encoded data removed]",
      "text/plain": [
       "<Figure size 432x288 with 1 Axes>"
      ]
     },
     "metadata": {
      "needs_background": "light"
     },
     "output_type": "display_data"
    }
   ],
   "source": [
    "shapes = [(512,512),(64,64),(32,32)]\n",
    "models = init_VGG16_pyramid(shapes)\n",
    "frame_segmented = frame_to_labels(raw)\n",
    "for i, filename in enumerate(filenames):\n",
    "    frame = io.imread(filename)\n",
    "    # if input image has multiple channels, select the correct one here:\n",
    "    #frame = frame[channel_nb,:,:] #where channel_nb is the channel you want to segment on\n",
    "    frame_segmented = frame_to_labels(frame)\n",
    "    frame_mask, table = spot_mask_from_labels(frame_segmented)\n",
    "    if i == 0:\n",
    "        plt.imshow(frame_segmented)\n",
    "        plt.show()\n",
    "        plt.imshow(mask)\n",
    "        plt.show()\n",
    "    io.imsave(output_folder_mask + os.path.basename(filename), frame_mask, check_contrast=False)\n",
    "    io.imsave(output_folder_segmentation + os.path.basename(filename), frame_segmented, check_contrast=False)"
   ]
  },
  {
   "cell_type": "code",
   "execution_count": 131,
   "metadata": {},
   "outputs": [],
   "source": []
  }
 ],
 "metadata": {
  "kernelspec": {
   "display_name": "Python 3 (ipykernel)",
   "language": "python",
   "name": "python3"
  },
  "language_info": {
   "codemirror_mode": {
    "name": "ipython",
    "version": 3
   },
   "file_extension": ".py",
   "mimetype": "text/x-python",
   "name": "python",
   "nbconvert_exporter": "python",
   "pygments_lexer": "ipython3",
   "version": "3.9.9"
  }
 },
 "nbformat": 4,
 "nbformat_minor": 4
}
